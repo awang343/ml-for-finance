{
 "cells": [
  {
   "cell_type": "code",
   "execution_count": 1,
   "metadata": {},
   "outputs": [],
   "source": [
    "from pca_invest import loadData, Strategy\n",
    "\n",
    "data = loadData(data_path=\"data/daily_ret_clean.csv\")\n",
    "\n",
    "strat = Strategy(pca_components=5)\n",
    "strat.trainWeights(data[:int(len(data)*0.6)])"
   ]
  },
  {
   "cell_type": "code",
   "execution_count": 2,
   "metadata": {},
   "outputs": [],
   "source": [
    "#strat.testWeights(data[:int(len(data)*0.6)])"
   ]
  },
  {
   "cell_type": "code",
   "execution_count": 3,
   "metadata": {},
   "outputs": [],
   "source": [
    "#data[int(len(data)*0.6):]"
   ]
  },
  {
   "cell_type": "code",
   "execution_count": 43,
   "metadata": {},
   "outputs": [],
   "source": [
    "import matplotlib.pyplot as plt\n",
    "\n",
    "summaries = []\n",
    "# plt.figure(figsize=(10,5))\n",
    "# plt.tight_layout()\n",
    "for k in range(1, 9):\n",
    "    strat = Strategy(pca_components=k)\n",
    "    \n",
    "    strat.trainWeights(data[:int(len(data)*0.6)])\n",
    "    market_ret, strat_ret, summary = strat.testWeights(data[int(len(data)*0.6):])\n",
    "    summaries.append(summary)\n",
    "#     if k == 1:\n",
    "#         plt.plot((market_ret+1).cumprod(), label=\"Market\")\n",
    "#     plt.plot((strat_ret+1).cumprod(), label=f\"K={k}\")\n",
    "    \n",
    "# plt.title(f\"Cumulative Out-of-Sample Returns for Different K\")\n",
    "# plt.legend()"
   ]
  },
  {
   "cell_type": "code",
   "execution_count": 44,
   "metadata": {},
   "outputs": [
    {
     "data": {
      "text/html": [
       "<div>\n",
       "<style scoped>\n",
       "    .dataframe tbody tr th:only-of-type {\n",
       "        vertical-align: middle;\n",
       "    }\n",
       "\n",
       "    .dataframe tbody tr th {\n",
       "        vertical-align: top;\n",
       "    }\n",
       "\n",
       "    .dataframe thead th {\n",
       "        text-align: right;\n",
       "    }\n",
       "</style>\n",
       "<table border=\"1\" class=\"dataframe\">\n",
       "  <thead>\n",
       "    <tr style=\"text-align: right;\">\n",
       "      <th></th>\n",
       "      <th>Annualized Sharpe</th>\n",
       "      <th>Annualized Information</th>\n",
       "    </tr>\n",
       "    <tr>\n",
       "      <th>K</th>\n",
       "      <th></th>\n",
       "      <th></th>\n",
       "    </tr>\n",
       "  </thead>\n",
       "  <tbody>\n",
       "    <tr>\n",
       "      <th>1</th>\n",
       "      <td>0.042127</td>\n",
       "      <td>-2.276885</td>\n",
       "    </tr>\n",
       "    <tr>\n",
       "      <th>2</th>\n",
       "      <td>0.418279</td>\n",
       "      <td>-1.998014</td>\n",
       "    </tr>\n",
       "    <tr>\n",
       "      <th>3</th>\n",
       "      <td>0.466256</td>\n",
       "      <td>-1.815535</td>\n",
       "    </tr>\n",
       "    <tr>\n",
       "      <th>4</th>\n",
       "      <td>0.466945</td>\n",
       "      <td>-1.798729</td>\n",
       "    </tr>\n",
       "    <tr>\n",
       "      <th>5</th>\n",
       "      <td>0.464532</td>\n",
       "      <td>-1.792968</td>\n",
       "    </tr>\n",
       "    <tr>\n",
       "      <th>6</th>\n",
       "      <td>0.424462</td>\n",
       "      <td>-1.714822</td>\n",
       "    </tr>\n",
       "    <tr>\n",
       "      <th>7</th>\n",
       "      <td>0.328391</td>\n",
       "      <td>-1.619763</td>\n",
       "    </tr>\n",
       "    <tr>\n",
       "      <th>8</th>\n",
       "      <td>0.315743</td>\n",
       "      <td>-1.601695</td>\n",
       "    </tr>\n",
       "  </tbody>\n",
       "</table>\n",
       "</div>"
      ],
      "text/plain": [
       "   Annualized Sharpe  Annualized Information\n",
       "K                                           \n",
       "1           0.042127               -2.276885\n",
       "2           0.418279               -1.998014\n",
       "3           0.466256               -1.815535\n",
       "4           0.466945               -1.798729\n",
       "5           0.464532               -1.792968\n",
       "6           0.424462               -1.714822\n",
       "7           0.328391               -1.619763\n",
       "8           0.315743               -1.601695"
      ]
     },
     "execution_count": 44,
     "metadata": {},
     "output_type": "execute_result"
    }
   ],
   "source": [
    "import pandas as pd\n",
    "import numpy as np\n",
    "s = pd.DataFrame(summaries)\n",
    "s[\"K\"] = np.arange(len(s)) + 1\n",
    "s[[\"K\", \"Annualized Sharpe\", \"Annualized Information\"]].set_index(\"K\")"
   ]
  }
 ],
 "metadata": {
  "kernelspec": {
   "display_name": "Python 3",
   "language": "python",
   "name": "python3"
  },
  "language_info": {
   "codemirror_mode": {
    "name": "ipython",
    "version": 3
   },
   "file_extension": ".py",
   "mimetype": "text/x-python",
   "name": "python",
   "nbconvert_exporter": "python",
   "pygments_lexer": "ipython3",
   "version": "3.12.6"
  }
 },
 "nbformat": 4,
 "nbformat_minor": 2
}
