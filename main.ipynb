{
 "cells": [
  {
   "cell_type": "markdown",
   "metadata": {},
   "source": [
    "### 1. Perform PCA on Stock Returns\n",
    "\n",
    "Using stock returns at the daily (or monthly) level, perform a Principal Component Analysis (PCA) on daily (monthly) stock returns. \n",
    "\n",
    "- How many factors are needed to explain a reasonable proportion of the total variance in stock returns? \n",
    "  - *(There is no right answer to this, although there are standard share of variance measures that are some diagnostic tests).*\n",
    "- **Hint**: What preprocessing should you do before performing PCA, and why?\n",
    "\n",
    "#### Mathematical Foundation:\n",
    "Principal Component Analysis (PCA) seeks to decompose the covariance matrix \n",
    "$ \\Sigma $ of stock returns into eigenvalues $ \\lambda_k $ and eigenvectors $ v_k $. The cumulative explained variance for $ K $ components is:\n",
    "\n",
    "$$\\text{Cumulative Variance} = \\frac{\\sum_{k=1}^K \\lambda_k}{\\sum_{k=1}^N \\lambda_k}$$\n",
    "\n",
    "<span style=\"color:red; font-weight:bold;\">🔴 Important:</span> \n",
    "- Let’s include the **mathematical foundations and formulas** for this question to make it more mathematically descriptive. \n",
    "- Use information from the **PCA slides, APMA 1690, or reliable internet sources**, but ensure to **track citations** for all added content.\n",
    "- Feel free to expand this section with further theoretical insights!"
   ]
  },
  {
   "cell_type": "code",
   "execution_count": null,
   "metadata": {},
   "outputs": [],
   "source": [
    "#Code goes here, Let's add visualizations/tables too"
   ]
  },
  {
   "cell_type": "markdown",
   "metadata": {},
   "source": [
    "### 2. Compute the First 5 Principal Components\n",
    "\n",
    "Focus on a low number of factors: $ K = 5 $. Compute (based on the total sample for now) the $ K = 5 $ principal components.\n",
    "\n",
    "- Each principal component should be a vector of length $ N $, the number of stocks in your universe.\n",
    "- How can one translate a principal component vector $ v_k $ into a tradable portfolio? \n",
    "  - **Hint**: What should you do with the vector elements?\n",
    "\n",
    "<span style=\"color:red; font-weight:bold;\">🔴 Important:</span> \n",
    "- Let’s include the **mathematical foundations and formulas** for this question to make it more mathematically descriptive. \n",
    "- Use information from the **PCA slides, APMA 1690, or reliable internet sources**, but ensure to **track citations** for all added content.\n",
    "- Feel free to expand this section with further theoretical insights!"
   ]
  },
  {
   "cell_type": "code",
   "execution_count": null,
   "metadata": {},
   "outputs": [],
   "source": [
    "#Code goes here, Let's add visualizations/tables too"
   ]
  },
  {
   "cell_type": "markdown",
   "metadata": {},
   "source": [
    "### 3. Compute Factor Returns for Each Principal Component\n",
    "\n",
    "For each principal component vector $ v_k $, compute the factor returns for the eigenportfolio:\n",
    "\n",
    "\n",
    "$$f_k^t = \\sum_i \\frac{v_k[i]}{\\bar{\\sigma}_i} \\cdot r_{i,t}$$\n",
    "\n",
    "- Where $ \\bar{\\sigma}_i $ is the standard deviation of stock $ i $'s returns.\n",
    "- **Question**: Why do we want to normalize $ v_k $ by the standard deviation?"
   ]
  },
  {
   "cell_type": "code",
   "execution_count": null,
   "metadata": {},
   "outputs": [],
   "source": [
    "#Code goes here, Let's add visualizations/tables too"
   ]
  },
  {
   "cell_type": "markdown",
   "metadata": {},
   "source": [
    "### 4. Correlation of First Factor Return with Market Returns\n",
    "\n",
    "Focus on the first factor return. What is its correlation with respect to market returns?"
   ]
  },
  {
   "cell_type": "code",
   "execution_count": null,
   "metadata": {},
   "outputs": [],
   "source": [
    "#Code goes here, Let's add visualizations/tables too"
   ]
  },
  {
   "cell_type": "markdown",
   "metadata": {},
   "source": [
    "### 5. Regression for Each Stock to Estimate $ \\alpha_i $\n",
    "\n",
    "For each stock $ i $, run the regression:\n",
    "\n",
    "$$r_{i,t} = \\alpha_i + \\sum_k \\beta_{k,i} f_k^t + \\epsilon_{i,t}$$\n",
    "\n",
    "What is the interpretation of $ \\alpha_i $?"
   ]
  },
  {
   "cell_type": "code",
   "execution_count": null,
   "metadata": {},
   "outputs": [],
   "source": [
    "#Code goes here, Let's add visualizations/tables too"
   ]
  },
  {
   "cell_type": "markdown",
   "metadata": {},
   "source": [
    "### 6. How does this approach differ from standard factors (i.e. using market, value, momentum)?"
   ]
  },
  {
   "cell_type": "markdown",
   "metadata": {},
   "source": [
    "### 7. Construct a Trading Strategy Based on $ \\alpha_i $\n",
    "\n",
    "Using your estimates of $ \\alpha_i $, design a trading strategy. If you are looking for ideas, consider the following approach:\n",
    "\n",
    "#### 1. Stock Sorting\n",
    "- Sort all stocks based on their $ \\alpha_i $ values:\n",
    "  - **Top Quintile**: Go long on stocks in the top quintile of $ \\alpha_i $ (highest alpha values).\n",
    "  - **Bottom Quintile**: Go short on stocks in the bottom quintile of $ \\alpha_i $ (lowest alpha values).\n",
    "- This approach effectively bets on the overperformance of stocks with high $ \\alpha_i $ and underperformance of stocks with low $ \\alpha_i $.\n",
    "\n",
    "#### 2. Portfolio Weights\n",
    "- At any time $ t $, assign portfolio weights $ w_{i,t} $ to each stock $ i $. These weights can be positive (long positions) or negative (short positions).\n",
    "- The total portfolio return for the next time step $ t+1 $ is calculated as:\n",
    "  \\[\n",
    "  r_{\\text{port}, t+1} = \\sum_{i} w_{i,t} \\cdot r_{i,t+1}\n",
    "  \\]\n",
    "  where:\n",
    "  - $ w_{i,t} $ is the weight of stock $ i $ at time $ t $,\n",
    "  - $ r_{i,t+1} $ is the return of stock $ i $ at time $ t+1 $.\n",
    "\n",
    "#### 3. Creativity Encouraged\n",
    "- Feel free to explore more entrepreneurial or creative strategies. You could experiment with different weighting schemes, alpha adjustments, or factor exposures.\n",
    "\n",
    "#### 4. Avoid Look-Ahead Bias\n",
    "- Ensure your trading strategy does not rely on future returns (e.g., predicting $ r_{i,t+1} $ before $ t+1 $ happens). Use only past and current data available up to time $ t $.\n",
    "\n",
    "#### 5. Practical Implementation\n",
    "- A simple starting point might include:\n",
    "  - **Equal Weights**: Assign equal weights to all stocks in the top and bottom quintiles.\n",
    "  - **Risk Adjusted**: Normalize weights based on volatility or other risk measures for each stock.\n",
    "\n",
    "---\n",
    "\n",
    "<span style=\"color:red; font-weight:bold;\">🔴 Important:</span> \n",
    "- Let’s include the **mathematical foundations and formulas** for this trading strategy to make it more descriptive and robust. \n",
    "- Use insights from the **PCA slides, APMA 1690, or external research papers** on trading strategies. \n",
    "- Ensure that all assumptions and data limitations are clearly cited. Expand this section with additional ideas or innovations! "
   ]
  },
  {
   "cell_type": "code",
   "execution_count": null,
   "metadata": {},
   "outputs": [],
   "source": [
    "#Code goes here, Let's add visualizations/tables too"
   ]
  },
  {
   "cell_type": "markdown",
   "metadata": {},
   "source": [
    "### 8. Visualize and Report Cumulative Returns\n",
    "\n",
    "Visualize and report the cumulative returns of the trading strategy. Let $ r_{\\text{port}, t} $ represent the returns of your trading strategy for time $ t $.\n",
    "\n",
    "#### Mathematical Foundation:\n",
    "The cumulative returns up to time $ T $ can be calculated as:\n",
    "\n",
    "$$\\text{Cumulative Return}_T = \\prod_{t=1}^{T} (1 + r_{\\text{port}, t}) - 1$$\n",
    "\n",
    "<span style=\"color:red; font-weight:bold;\">🔴 Important:</span> \n",
    "- Let’s include the **mathematical foundations and visualization techniques** for this question. \n",
    "- Use insights from finance literature or PCA examples for calculating and plotting cumulative returns."
   ]
  },
  {
   "cell_type": "code",
   "execution_count": null,
   "metadata": {},
   "outputs": [],
   "source": [
    "#Code goes here, Let's add visualizations/tables too"
   ]
  },
  {
   "cell_type": "markdown",
   "metadata": {},
   "source": [
    "### 9. Compute the Sharpe Ratio\n",
    "\n",
    "Compute the Sharpe ratio of your trading strategy. The Sharpe ratio measures the risk-adjusted return of a portfolio.\n",
    "\n",
    "#### Mathematical Foundation:\n",
    "The Sharpe ratio is given by:\n",
    "\\[\n",
    "\\text{Sharpe Ratio} = \\frac{\\mathbb{E}[r_{\\text{port}}] - r_f}{\\sigma_{\\text{port}}}\n",
    "\\]\n",
    "Where:\n",
    "- $ \\mathbb{E}[r_{\\text{port}}] $ is the expected return of the portfolio,\n",
    "- $ r_f $ is the risk-free rate,\n",
    "- $ \\sigma_{\\text{port}} $ is the standard deviation of the portfolio returns.\n",
    "\n",
    "<span style=\"color:red; font-weight:bold;\">🔴 Important:</span> \n",
    "- Let’s include the **formulas, explanations, and interpretations** for the Sharpe ratio in the context of your strategy.\n",
    "- Discuss assumptions like constant $ r_f $ and ensure proper citations if you use external resources."
   ]
  },
  {
   "cell_type": "code",
   "execution_count": null,
   "metadata": {},
   "outputs": [],
   "source": [
    "#Code goes here, Let's add visualizations/tables too"
   ]
  },
  {
   "cell_type": "markdown",
   "metadata": {},
   "source": [
    "### 10. Compute the Information Ratio\n",
    "\n",
    "Compute the information ratio of your trading strategy:\n",
    "\n",
    "- Formally, run the regression:\n",
    "\n",
    "$$r_{\\text{port}, t} = \\alpha + \\beta r_{\\text{mkt}, t}$$\n",
    "Your reference return (for the information ratio) should be $ \\beta \\cdot r_{\\text{mkt}, t} $.\n",
    "\n",
    "\n",
    "#### Mathematical Foundation:\n",
    "1. Perform a regression:\n",
    "$$r_{\\text{port}, t} = \\alpha + \\beta r_{\\text{mkt}, t} + \\epsilon_t$$\n",
    "Where:\n",
    "- $ r_{\\text{port}, t} $ is the portfolio return at time $ t $,\n",
    "- $ r_{\\text{mkt}, t} $ is the market return at time $ t $,\n",
    "- $ \\alpha $ is the portfolio’s alpha,\n",
    "- $ \\beta $ is the sensitivity to the market.\n",
    "\n",
    "2. The information ratio is calculated as:\n",
    "\n",
    "$$\\text{Information Ratio} = \\frac{\\alpha}{\\text{Tracking Error}}$$\n",
    "Where the tracking error is the standard deviation of the residuals $ \\epsilon_t $.\n",
    "\n",
    "#### Questions:\n",
    "- Is your strategy market neutral (i.e., $ \\beta = 0 $)? Analyze and discuss.\n",
    "\n",
    "<span style=\"color:red; font-weight:bold;\">🔴 Important:</span> \n",
    "- Include **mathematical derivations and interpretations** for the information ratio.\n",
    "- Use reliable references for definitions and ensure proper discussion of market neutrality."
   ]
  },
  {
   "cell_type": "code",
   "execution_count": null,
   "metadata": {},
   "outputs": [],
   "source": [
    "#Code goes here, Let's add visualizations/tables too"
   ]
  },
  {
   "cell_type": "markdown",
   "metadata": {},
   "source": [
    "### 11. Addressing Look-Ahead Bias\n",
    "\n",
    "Note that you have estimated the PCA using the entire sample. Thus, your estimates of your trading performance should be somewhat positively biased. \n",
    "\n",
    "Now, repeat your exercise, where you simulate a trading strategy across time, where you:\n",
    "\n",
    "1. Estimate your factors only based on data in the past (so at January 2015, you construct your PCAs using data up to January 2015).\n",
    "2. Construct a trading strategy and see how this strategy performs.\n",
    "\n",
    "A simple starting point is to estimate $ \\alpha_i $'s using data prior to 2015 and assume $ \\alpha_i $'s stay fixed afterwards. Of course, you can also update your $ \\alpha_i $ estimates every day/month when you roll forward. \n",
    "\n",
    "Be very clear how you avoided the look-ahead bias. \n",
    "\n",
    "<span style=\"color:red; font-weight:bold;\">🔴 Important:</span> \n",
    "- Include **mathematical derivations and interpretations** for the information ratio.\n",
    "- Use reliable references for definitions and ensure proper discussion of market neutrality."
   ]
  },
  {
   "cell_type": "code",
   "execution_count": null,
   "metadata": {},
   "outputs": [],
   "source": [
    "#Code goes here, Let's add visualizations/tables too"
   ]
  },
  {
   "cell_type": "markdown",
   "metadata": {},
   "source": [
    "### 12. Evaluating Across Multiple Values of $ K $\n",
    "\n",
    "Why stop at $ K = 5 $? Across multiple values of $ K $, re-do all of the above exercises.\n",
    "\n",
    "- Which $ K $ seems to work best? \n",
    "- Is there a significant difference between in-sample assessments (where you estimate the factors based on all the data) and out-of-sample assessments (where you estimate the factors only based on data available at the time and roll forward)?\n",
    "\n",
    "Discuss.\n",
    "\n",
    "<span style=\"color:red; font-weight:bold;\">🔴 Important:</span> \n",
    "- Include **mathematical derivations and interpretations** for the information ratio.\n",
    "- Use reliable references for definitions and ensure proper discussion of market neutrality."
   ]
  }
 ],
 "metadata": {
  "kernelspec": {
   "display_name": "Python 3",
   "language": "python",
   "name": "python3"
  },
  "language_info": {
   "name": "python",
   "version": "3.12.4"
  }
 },
 "nbformat": 4,
 "nbformat_minor": 2
}
